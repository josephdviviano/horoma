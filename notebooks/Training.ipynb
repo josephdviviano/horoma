{
 "cells": [
  {
   "cell_type": "markdown",
   "metadata": {
    "colab_type": "text",
    "id": "m6BANxeY6s6R"
   },
   "source": [
    "Set `colab` to `False` if the notebook is not running on Colab."
   ]
  },
  {
   "cell_type": "code",
   "execution_count": 1,
   "metadata": {
    "ExecuteTime": {
     "end_time": "2019-02-22T19:46:32.664601Z",
     "start_time": "2019-02-22T19:46:32.661325Z"
    },
    "colab": {},
    "colab_type": "code",
    "id": "DpAn02yN6g6C"
   },
   "outputs": [],
   "source": [
    "colab = False"
   ]
  },
  {
   "cell_type": "code",
   "execution_count": 2,
   "metadata": {
    "ExecuteTime": {
     "end_time": "2019-02-22T19:46:33.202410Z",
     "start_time": "2019-02-22T19:46:33.199456Z"
    },
    "colab": {},
    "colab_type": "code",
    "id": "2zhb-CcE6kr7"
   },
   "outputs": [],
   "source": [
    "if colab:\n",
    "    ROOT = '/content/gdrive/My Drive/Colab/kaggle/'\n",
    "else:\n",
    "    ROOT = '../'"
   ]
  },
  {
   "cell_type": "code",
   "execution_count": 3,
   "metadata": {
    "ExecuteTime": {
     "end_time": "2019-02-22T19:46:33.549557Z",
     "start_time": "2019-02-22T19:46:33.541382Z"
    },
    "colab": {},
    "colab_type": "code",
    "id": "AP6cCogh0lGR"
   },
   "outputs": [],
   "source": [
    "MODULE_PATH = ROOT\n",
    "DATA_PATH = ROOT + 'data/'\n",
    "NOTEBOOK_PATH = ROOT + 'notebooks/'\n",
    "RESULTS_PATH = ROOT + 'results/'"
   ]
  },
  {
   "cell_type": "markdown",
   "metadata": {
    "colab_type": "text",
    "id": "EWitSD-61U6r"
   },
   "source": [
    "## Access to Drive"
   ]
  },
  {
   "cell_type": "code",
   "execution_count": 4,
   "metadata": {
    "ExecuteTime": {
     "end_time": "2019-02-22T19:46:34.148953Z",
     "start_time": "2019-02-22T19:46:34.145769Z"
    },
    "colab": {
     "base_uri": "https://localhost:8080/",
     "height": 122
    },
    "colab_type": "code",
    "executionInfo": {
     "elapsed": 21108,
     "status": "ok",
     "timestamp": 1549852697412,
     "user": {
      "displayName": "Basile Dura",
      "photoUrl": "https://lh5.googleusercontent.com/-VYKwAw35RKU/AAAAAAAAAAI/AAAAAAAAS-Q/tpwWee7Y2yA/s64/photo.jpg",
      "userId": "10273963106894465933"
     },
     "user_tz": 300
    },
    "id": "XqjI1tOa1YdP",
    "outputId": "a28e0fe7-2acc-463c-e4f6-6e91d146ce07"
   },
   "outputs": [],
   "source": [
    "if colab:\n",
    "    from google.colab import drive\n",
    "    drive.mount('/content/gdrive')"
   ]
  },
  {
   "cell_type": "markdown",
   "metadata": {
    "colab_type": "text",
    "id": "ilgdREYW1bIO"
   },
   "source": [
    "## Installations"
   ]
  },
  {
   "cell_type": "code",
   "execution_count": 5,
   "metadata": {
    "ExecuteTime": {
     "end_time": "2019-02-22T19:46:34.830796Z",
     "start_time": "2019-02-22T19:46:34.827785Z"
    },
    "colab": {},
    "colab_type": "code",
    "id": "_61Rhpbx1fVG"
   },
   "outputs": [],
   "source": [
    "if colab:\n",
    "    get_ipython().system_raw('pip install torch torchvision pillow==4.1.1')"
   ]
  },
  {
   "cell_type": "code",
   "execution_count": 6,
   "metadata": {
    "ExecuteTime": {
     "end_time": "2019-02-22T19:46:35.261756Z",
     "start_time": "2019-02-22T19:46:35.258113Z"
    },
    "colab": {},
    "colab_type": "code",
    "id": "ye-0SMv_avtx"
   },
   "outputs": [],
   "source": [
    "if colab:\n",
    "    get_ipython().system_raw('mkdir data')\n",
    "    get_ipython().system_raw('unzip \"{path}\" -d data'.format(path=DATA_PATH + 'trainset.zip'))\n",
    "    DATA_PATH = 'data/trainset/'"
   ]
  },
  {
   "cell_type": "markdown",
   "metadata": {
    "colab_type": "text",
    "id": "dYszxiOA2Emi"
   },
   "source": [
    "# Import statements"
   ]
  },
  {
   "cell_type": "markdown",
   "metadata": {
    "colab_type": "text",
    "id": "hkmlq06j2HzJ"
   },
   "source": [
    "## Access to modules"
   ]
  },
  {
   "cell_type": "code",
   "execution_count": 7,
   "metadata": {
    "ExecuteTime": {
     "end_time": "2019-02-22T19:46:36.886129Z",
     "start_time": "2019-02-22T19:46:36.883082Z"
    },
    "colab": {},
    "colab_type": "code",
    "id": "AZwO3vOb0Zb1"
   },
   "outputs": [],
   "source": [
    "import sys\n",
    "import os"
   ]
  },
  {
   "cell_type": "code",
   "execution_count": 8,
   "metadata": {
    "ExecuteTime": {
     "end_time": "2019-02-22T19:46:37.214483Z",
     "start_time": "2019-02-22T19:46:37.209322Z"
    },
    "colab": {},
    "colab_type": "code",
    "id": "Jn_zdcfg0Zb5"
   },
   "outputs": [],
   "source": [
    "sys.path.append(os.path.abspath(MODULE_PATH))"
   ]
  },
  {
   "cell_type": "markdown",
   "metadata": {
    "colab_type": "text",
    "id": "sEtbIgYD21Vn"
   },
   "source": [
    "## Importation of modules"
   ]
  },
  {
   "cell_type": "code",
   "execution_count": 10,
   "metadata": {
    "ExecuteTime": {
     "end_time": "2019-02-22T19:46:46.275371Z",
     "start_time": "2019-02-22T19:46:46.214048Z"
    },
    "colab": {},
    "colab_type": "code",
    "id": "KMRuhoCD0Zb7"
   },
   "outputs": [],
   "source": [
    "# \"Magic\" commands for automatic reloading of module, perfect for prototyping\n",
    "%reload_ext autoreload\n",
    "%autoreload 2\n",
    "\n",
    "from models import wasserstein, variational\n",
    "\n",
    "from torchvision.datasets import MNIST\n",
    "from torchvision import transforms\n",
    "\n",
    "from torch.utils.data import DataLoader, Subset\n",
    "\n",
    "import torch.optim as optim\n",
    "import torch\n",
    "\n",
    "from tqdm import tqdm\n",
    "\n",
    "import numpy as np"
   ]
  },
  {
   "cell_type": "code",
   "execution_count": 11,
   "metadata": {
    "ExecuteTime": {
     "end_time": "2019-02-22T19:46:47.586604Z",
     "start_time": "2019-02-22T19:46:47.532271Z"
    }
   },
   "outputs": [],
   "source": [
    "device = torch.device('cuda' if torch.cuda.is_available() else 'cpu')"
   ]
  },
  {
   "cell_type": "markdown",
   "metadata": {},
   "source": [
    "# Dataset"
   ]
  },
  {
   "cell_type": "code",
   "execution_count": 12,
   "metadata": {
    "ExecuteTime": {
     "end_time": "2019-02-22T19:46:48.379050Z",
     "start_time": "2019-02-22T19:46:48.284345Z"
    }
   },
   "outputs": [],
   "source": [
    "dataset = MNIST(DATA_PATH, download=True, transform=transforms.ToTensor())"
   ]
  },
  {
   "cell_type": "code",
   "execution_count": 13,
   "metadata": {
    "ExecuteTime": {
     "end_time": "2019-02-22T19:46:48.794543Z",
     "start_time": "2019-02-22T19:46:48.685515Z"
    }
   },
   "outputs": [
    {
     "data": {
      "image/png": "[encoded data removed]",
      "text/plain": [
       "<PIL.Image.Image image mode=L size=28x28 at 0x1210BCE48>"
      ]
     },
     "execution_count": 13,
     "metadata": {},
     "output_type": "execute_result"
    }
   ],
   "source": [
    "transforms.functional.to_pil_image(dataset[0][0])"
   ]
  },
  {
   "cell_type": "code",
   "execution_count": 14,
   "metadata": {
    "ExecuteTime": {
     "end_time": "2019-02-22T19:46:49.601286Z",
     "start_time": "2019-02-22T19:46:49.537497Z"
    }
   },
   "outputs": [],
   "source": [
    "split = .9\n",
    "\n",
    "n = len(dataset)\n",
    "indices = list(range(n))\n",
    "\n",
    "np.random.seed(0)\n",
    "np.random.shuffle(indices)\n",
    "\n",
    "train_indices = indices[:int(split * n)]\n",
    "valid_indices = indices[int(split * n):]\n",
    "\n",
    "train_set = Subset(dataset, train_indices)\n",
    "valid_set = Subset(dataset, valid_indices)"
   ]
  },
  {
   "cell_type": "code",
   "execution_count": 15,
   "metadata": {
    "ExecuteTime": {
     "end_time": "2019-02-22T19:46:50.588404Z",
     "start_time": "2019-02-22T19:46:50.539635Z"
    }
   },
   "outputs": [],
   "source": [
    "train_loader = DataLoader(train_set, batch_size=100, shuffle=True)\n",
    "valid_loader = DataLoader(valid_set, batch_size=100, shuffle=True)"
   ]
  },
  {
   "cell_type": "markdown",
   "metadata": {
    "colab_type": "text",
    "id": "4VK4WsgzBWj3"
   },
   "source": [
    "# Training"
   ]
  },
  {
   "cell_type": "markdown",
   "metadata": {},
   "source": [
    "## Variational"
   ]
  },
  {
   "cell_type": "markdown",
   "metadata": {},
   "source": [
    "### Defining the model"
   ]
  },
  {
   "cell_type": "code",
   "execution_count": 28,
   "metadata": {
    "ExecuteTime": {
     "end_time": "2019-02-22T19:49:53.428978Z",
     "start_time": "2019-02-22T19:49:53.324882Z"
    },
    "colab": {
     "base_uri": "https://localhost:8080/",
     "height": 374
    },
    "colab_type": "code",
    "executionInfo": {
     "elapsed": 8410,
     "status": "ok",
     "timestamp": 1549842314245,
     "user": {
      "displayName": "Basile Dura",
      "photoUrl": "https://lh5.googleusercontent.com/-VYKwAw35RKU/AAAAAAAAAAI/AAAAAAAAS-Q/tpwWee7Y2yA/s64/photo.jpg",
      "userId": "10273963106894465933"
     },
     "user_tz": 300
    },
    "id": "jWy_Oi64BWj4",
    "outputId": "de2df182-1803-4c6f-83d7-de520629a18d"
   },
   "outputs": [
    {
     "data": {
      "text/plain": [
       "VariationalAutoEncoder(\n",
       "  (reconstruction_criterion): MSELoss()\n",
       "  (activation): ReLU()\n",
       "  (dropout): Dropout(p=0.1)\n",
       "  (max): MaxPool2d(kernel_size=2, stride=2, padding=0, dilation=1, ceil_mode=False)\n",
       "  (encoder_conv32): Conv2d(1, 64, kernel_size=(3, 3), stride=(1, 1), padding=(1, 1))\n",
       "  (encoder_conv16): Conv2d(64, 128, kernel_size=(3, 3), stride=(1, 1), padding=(1, 1))\n",
       "  (encoder_conv8): Conv2d(128, 256, kernel_size=(3, 3), stride=(1, 1), padding=(1, 1))\n",
       "  (encoder_conv4): Conv2d(256, 256, kernel_size=(3, 3), stride=(1, 1), padding=(1, 1))\n",
       "  (encoder_lin_100): Linear(in_features=12544, out_features=100, bias=True)\n",
       "  (encoder_lin_mu): Linear(in_features=100, out_features=2, bias=True)\n",
       "  (encoder_lin_sigma): Linear(in_features=100, out_features=2, bias=True)\n",
       "  (decoder_lin_l): Linear(in_features=2, out_features=100, bias=True)\n",
       "  (decoder_lin_100): Linear(in_features=100, out_features=12544, bias=True)\n",
       "  (decoder_conv4): Conv2d(256, 256, kernel_size=(3, 3), stride=(1, 1), padding=(1, 1))\n",
       "  (decoder_conv8): Conv2d(256, 128, kernel_size=(3, 3), stride=(1, 1), padding=(1, 1))\n",
       "  (decoder_conv16): Conv2d(128, 64, kernel_size=(3, 3), stride=(1, 1), padding=(1, 1))\n",
       "  (decoder_conv32): Conv2d(64, 1, kernel_size=(3, 3), stride=(1, 1), padding=(1, 1))\n",
       ")"
      ]
     },
     "execution_count": 28,
     "metadata": {},
     "output_type": "execute_result"
    }
   ],
   "source": [
    "model = variational.VariationalAutoEncoder()\n",
    "model"
   ]
  },
  {
   "cell_type": "code",
   "execution_count": 29,
   "metadata": {
    "ExecuteTime": {
     "end_time": "2019-02-22T19:49:53.754604Z",
     "start_time": "2019-02-22T19:49:53.705003Z"
    }
   },
   "outputs": [],
   "source": [
    "model = model.to(device)"
   ]
  },
  {
   "cell_type": "markdown",
   "metadata": {},
   "source": [
    "### Custom train and test functions"
   ]
  },
  {
   "cell_type": "code",
   "execution_count": 30,
   "metadata": {
    "ExecuteTime": {
     "end_time": "2019-02-22T19:49:54.523591Z",
     "start_time": "2019-02-22T19:49:54.466621Z"
    }
   },
   "outputs": [],
   "source": [
    "def train(epoch, model, optimizer, dataloader, device):\n",
    "\n",
    "    model.train()\n",
    "    train_loss = 0\n",
    "    \n",
    "    iterator = tqdm(\n",
    "        dataloader,\n",
    "        ascii=True,\n",
    "        ncols=100,\n",
    "        total=len(dataloader)\n",
    "    )\n",
    "\n",
    "    for data, _ in iterator:\n",
    "        # We move the mini-batch to the device (useful is using a GPU)\n",
    "        data = data.to(device)\n",
    "\n",
    "        # We initialize the gradients\n",
    "        optimizer.zero_grad()\n",
    "\n",
    "        # We compute the recontruction of x (x_tilde) and its encoding (z)\n",
    "        x_tilde, mu, log_sigma = model(data)\n",
    "\n",
    "        # We compute the loss\n",
    "        loss = model.loss(x_tilde=x_tilde, x=data, mu=mu, log_sigma=log_sigma, device=device)\n",
    "\n",
    "        # Backpropagation\n",
    "        loss.backward()\n",
    "\n",
    "        # Updating the loss\n",
    "        train_loss += loss.item()\n",
    "\n",
    "        # Updating the parameters\n",
    "        optimizer.step()\n",
    "\n",
    "    print('>> Epoch: {} Average loss: {:.4f}'.format(epoch, train_loss / len(train_loader.dataset)))"
   ]
  },
  {
   "cell_type": "code",
   "execution_count": 31,
   "metadata": {
    "ExecuteTime": {
     "end_time": "2019-02-22T19:49:54.987211Z",
     "start_time": "2019-02-22T19:49:54.925924Z"
    }
   },
   "outputs": [],
   "source": [
    "def test(epoch, model, dataloader, device, writer):\n",
    "\n",
    "    model.eval()\n",
    "    test_loss = 0\n",
    "\n",
    "    # We do not compute gradients during the testing phase, hence the no_grad() environment\n",
    "    with torch.no_grad():\n",
    "\n",
    "        for i, (data, _) in enumerate(dataloader):\n",
    "\n",
    "            data = data.to(device)\n",
    "            \n",
    "            x_tilde, mu, log_sigma = model(data)\n",
    "\n",
    "            # We compute the loss\n",
    "            loss = model.loss(x_tilde=x_tilde, x=data, mu=mu, log_sigma=log_sigma, device=device)\n",
    "\n",
    "            if i == 0:\n",
    "                n = min(data.size(0), 8)\n",
    "                comparison = torch.cat([data[:n], x_tilde.view(100, 1, 28, 28)[:n]])\n",
    "\n",
    "    test_loss /= len(test_loader.dataset)\n",
    "    print('>> Test set loss: {:.4f}'.format(test_loss))"
   ]
  },
  {
   "cell_type": "markdown",
   "metadata": {},
   "source": [
    "### Training loop"
   ]
  },
  {
   "cell_type": "code",
   "execution_count": 32,
   "metadata": {
    "ExecuteTime": {
     "end_time": "2019-02-22T19:49:55.897067Z",
     "start_time": "2019-02-22T19:49:55.840257Z"
    }
   },
   "outputs": [],
   "source": [
    "optimizer = optim.Adam(model.parameters())"
   ]
  },
  {
   "cell_type": "code",
   "execution_count": 33,
   "metadata": {
    "ExecuteTime": {
     "end_time": "2019-02-22T19:50:21.405314Z",
     "start_time": "2019-02-22T19:49:56.351590Z"
    },
    "scrolled": true
   },
   "outputs": [
    {
     "name": "stderr",
     "output_type": "stream",
     "text": [
      "\n",
      "  0%|                                                                       | 0/540 [00:00<?, ?it/s]\u001b[A\n",
      "  0%|1                                                              | 1/540 [00:01<15:21,  1.71s/it]\u001b[A\n",
      "  0%|2                                                              | 2/540 [00:03<14:57,  1.67s/it]\u001b[A\n",
      "  1%|3                                                              | 3/540 [00:04<14:37,  1.63s/it]\u001b[A\n",
      "  1%|4                                                              | 4/540 [00:06<14:16,  1.60s/it]\u001b[A\n",
      "  1%|5                                                              | 5/540 [00:07<13:58,  1.57s/it]\u001b[A\n",
      "  1%|7                                                              | 6/540 [00:09<13:57,  1.57s/it]\u001b[A\n",
      "  1%|8                                                              | 7/540 [00:10<13:50,  1.56s/it]\u001b[A\n",
      "  1%|9                                                              | 8/540 [00:12<13:44,  1.55s/it]\u001b[A\n",
      "  2%|#                                                              | 9/540 [00:13<13:32,  1.53s/it]\u001b[A\n",
      "  2%|#1                                                            | 10/540 [00:15<13:29,  1.53s/it]\u001b[A\n",
      "  2%|#2                                                            | 11/540 [00:17<13:51,  1.57s/it]\u001b[A\n",
      "  2%|#3                                                            | 12/540 [00:18<14:13,  1.62s/it]\u001b[A\n",
      "  2%|#4                                                            | 13/540 [00:20<14:38,  1.67s/it]\u001b[A\n",
      "  3%|#6                                                            | 14/540 [00:22<15:20,  1.75s/it]\u001b[A\n",
      "  3%|#7                                                            | 15/540 [00:24<16:37,  1.90s/it]\u001b[A"
     ]
    },
    {
     "ename": "KeyboardInterrupt",
     "evalue": "",
     "output_type": "error",
     "traceback": [
      "\u001b[0;31m---------------------------------------------------------------------------\u001b[0m",
      "\u001b[0;31mKeyboardInterrupt\u001b[0m                         Traceback (most recent call last)",
      "\u001b[0;32m<ipython-input-33-c8233ca28053>\u001b[0m in \u001b[0;36m<module>\u001b[0;34m\u001b[0m\n\u001b[0;32m----> 1\u001b[0;31m \u001b[0mtrain\u001b[0m\u001b[0;34m(\u001b[0m\u001b[0;36m1\u001b[0m\u001b[0;34m,\u001b[0m \u001b[0mmodel\u001b[0m\u001b[0;34m,\u001b[0m \u001b[0moptimizer\u001b[0m\u001b[0;34m,\u001b[0m \u001b[0mtrain_loader\u001b[0m\u001b[0;34m,\u001b[0m \u001b[0mdevice\u001b[0m\u001b[0;34m)\u001b[0m\u001b[0;34m\u001b[0m\u001b[0;34m\u001b[0m\u001b[0m\n\u001b[0m",
      "\u001b[0;32m<ipython-input-30-2dd49d6eb26b>\u001b[0m in \u001b[0;36mtrain\u001b[0;34m(epoch, model, optimizer, dataloader, device)\u001b[0m\n\u001b[1;32m     19\u001b[0m \u001b[0;34m\u001b[0m\u001b[0m\n\u001b[1;32m     20\u001b[0m         \u001b[0;31m# We compute the recontruction of x (x_tilde) and its encoding (z)\u001b[0m\u001b[0;34m\u001b[0m\u001b[0;34m\u001b[0m\u001b[0;34m\u001b[0m\u001b[0m\n\u001b[0;32m---> 21\u001b[0;31m         \u001b[0mx_tilde\u001b[0m\u001b[0;34m,\u001b[0m \u001b[0mmu\u001b[0m\u001b[0;34m,\u001b[0m \u001b[0mlog_sigma\u001b[0m \u001b[0;34m=\u001b[0m \u001b[0mmodel\u001b[0m\u001b[0;34m(\u001b[0m\u001b[0mdata\u001b[0m\u001b[0;34m)\u001b[0m\u001b[0;34m\u001b[0m\u001b[0;34m\u001b[0m\u001b[0m\n\u001b[0m\u001b[1;32m     22\u001b[0m \u001b[0;34m\u001b[0m\u001b[0m\n\u001b[1;32m     23\u001b[0m         \u001b[0;31m# We compute the loss\u001b[0m\u001b[0;34m\u001b[0m\u001b[0;34m\u001b[0m\u001b[0;34m\u001b[0m\u001b[0m\n",
      "\u001b[0;32m~/miniconda3/envs/pytorch/lib/python3.7/site-packages/torch/nn/modules/module.py\u001b[0m in \u001b[0;36m__call__\u001b[0;34m(self, *input, **kwargs)\u001b[0m\n\u001b[1;32m    487\u001b[0m             \u001b[0mresult\u001b[0m \u001b[0;34m=\u001b[0m \u001b[0mself\u001b[0m\u001b[0;34m.\u001b[0m\u001b[0m_slow_forward\u001b[0m\u001b[0;34m(\u001b[0m\u001b[0;34m*\u001b[0m\u001b[0minput\u001b[0m\u001b[0;34m,\u001b[0m \u001b[0;34m**\u001b[0m\u001b[0mkwargs\u001b[0m\u001b[0;34m)\u001b[0m\u001b[0;34m\u001b[0m\u001b[0;34m\u001b[0m\u001b[0m\n\u001b[1;32m    488\u001b[0m         \u001b[0;32melse\u001b[0m\u001b[0;34m:\u001b[0m\u001b[0;34m\u001b[0m\u001b[0;34m\u001b[0m\u001b[0m\n\u001b[0;32m--> 489\u001b[0;31m             \u001b[0mresult\u001b[0m \u001b[0;34m=\u001b[0m \u001b[0mself\u001b[0m\u001b[0;34m.\u001b[0m\u001b[0mforward\u001b[0m\u001b[0;34m(\u001b[0m\u001b[0;34m*\u001b[0m\u001b[0minput\u001b[0m\u001b[0;34m,\u001b[0m \u001b[0;34m**\u001b[0m\u001b[0mkwargs\u001b[0m\u001b[0;34m)\u001b[0m\u001b[0;34m\u001b[0m\u001b[0;34m\u001b[0m\u001b[0m\n\u001b[0m\u001b[1;32m    490\u001b[0m         \u001b[0;32mfor\u001b[0m \u001b[0mhook\u001b[0m \u001b[0;32min\u001b[0m \u001b[0mself\u001b[0m\u001b[0;34m.\u001b[0m\u001b[0m_forward_hooks\u001b[0m\u001b[0;34m.\u001b[0m\u001b[0mvalues\u001b[0m\u001b[0;34m(\u001b[0m\u001b[0;34m)\u001b[0m\u001b[0;34m:\u001b[0m\u001b[0;34m\u001b[0m\u001b[0;34m\u001b[0m\u001b[0m\n\u001b[1;32m    491\u001b[0m             \u001b[0mhook_result\u001b[0m \u001b[0;34m=\u001b[0m \u001b[0mhook\u001b[0m\u001b[0;34m(\u001b[0m\u001b[0mself\u001b[0m\u001b[0;34m,\u001b[0m \u001b[0minput\u001b[0m\u001b[0;34m,\u001b[0m \u001b[0mresult\u001b[0m\u001b[0;34m)\u001b[0m\u001b[0;34m\u001b[0m\u001b[0;34m\u001b[0m\u001b[0m\n",
      "\u001b[0;32m~/Documents/Cours/Projects in ML/horoma/models/variational.py\u001b[0m in \u001b[0;36mforward\u001b[0;34m(self, x)\u001b[0m\n\u001b[1;32m    174\u001b[0m         \"\"\"\n\u001b[1;32m    175\u001b[0m \u001b[0;34m\u001b[0m\u001b[0m\n\u001b[0;32m--> 176\u001b[0;31m         \u001b[0mmu\u001b[0m\u001b[0;34m,\u001b[0m \u001b[0mlog_sigma\u001b[0m \u001b[0;34m=\u001b[0m \u001b[0mself\u001b[0m\u001b[0;34m.\u001b[0m\u001b[0mencode\u001b[0m\u001b[0;34m(\u001b[0m\u001b[0mx\u001b[0m\u001b[0;34m)\u001b[0m\u001b[0;34m\u001b[0m\u001b[0;34m\u001b[0m\u001b[0m\n\u001b[0m\u001b[1;32m    177\u001b[0m         \u001b[0mz\u001b[0m \u001b[0;34m=\u001b[0m \u001b[0mself\u001b[0m\u001b[0;34m.\u001b[0m\u001b[0msample\u001b[0m\u001b[0;34m(\u001b[0m\u001b[0mmu\u001b[0m\u001b[0;34m,\u001b[0m \u001b[0mlog_sigma\u001b[0m\u001b[0;34m)\u001b[0m\u001b[0;34m\u001b[0m\u001b[0;34m\u001b[0m\u001b[0m\n\u001b[1;32m    178\u001b[0m         \u001b[0mx_tilde\u001b[0m \u001b[0;34m=\u001b[0m \u001b[0mself\u001b[0m\u001b[0;34m.\u001b[0m\u001b[0mdecode\u001b[0m\u001b[0;34m(\u001b[0m\u001b[0mz\u001b[0m\u001b[0;34m)\u001b[0m\u001b[0;34m\u001b[0m\u001b[0;34m\u001b[0m\u001b[0m\n",
      "\u001b[0;32m~/Documents/Cours/Projects in ML/horoma/models/variational.py\u001b[0m in \u001b[0;36mencode\u001b[0;34m(self, x)\u001b[0m\n\u001b[1;32m     70\u001b[0m         \u001b[0mx\u001b[0m \u001b[0;34m=\u001b[0m \u001b[0mself\u001b[0m\u001b[0;34m.\u001b[0m\u001b[0mmax\u001b[0m\u001b[0;34m(\u001b[0m\u001b[0mx\u001b[0m\u001b[0;34m)\u001b[0m\u001b[0;34m\u001b[0m\u001b[0;34m\u001b[0m\u001b[0m\n\u001b[1;32m     71\u001b[0m \u001b[0;34m\u001b[0m\u001b[0m\n\u001b[0;32m---> 72\u001b[0;31m         \u001b[0mx\u001b[0m \u001b[0;34m=\u001b[0m \u001b[0mself\u001b[0m\u001b[0;34m.\u001b[0m\u001b[0mencoder_conv16\u001b[0m\u001b[0;34m(\u001b[0m\u001b[0mx\u001b[0m\u001b[0;34m)\u001b[0m\u001b[0;34m\u001b[0m\u001b[0;34m\u001b[0m\u001b[0m\n\u001b[0m\u001b[1;32m     73\u001b[0m         \u001b[0mx\u001b[0m \u001b[0;34m=\u001b[0m \u001b[0mself\u001b[0m\u001b[0;34m.\u001b[0m\u001b[0mdropout\u001b[0m\u001b[0;34m(\u001b[0m\u001b[0mx\u001b[0m\u001b[0;34m)\u001b[0m\u001b[0;34m\u001b[0m\u001b[0;34m\u001b[0m\u001b[0m\n\u001b[1;32m     74\u001b[0m         \u001b[0mx\u001b[0m \u001b[0;34m=\u001b[0m \u001b[0mself\u001b[0m\u001b[0;34m.\u001b[0m\u001b[0mactivation\u001b[0m\u001b[0;34m(\u001b[0m\u001b[0mx\u001b[0m\u001b[0;34m)\u001b[0m\u001b[0;34m\u001b[0m\u001b[0;34m\u001b[0m\u001b[0m\n",
      "\u001b[0;32m~/miniconda3/envs/pytorch/lib/python3.7/site-packages/torch/nn/modules/module.py\u001b[0m in \u001b[0;36m__call__\u001b[0;34m(self, *input, **kwargs)\u001b[0m\n\u001b[1;32m    487\u001b[0m             \u001b[0mresult\u001b[0m \u001b[0;34m=\u001b[0m \u001b[0mself\u001b[0m\u001b[0;34m.\u001b[0m\u001b[0m_slow_forward\u001b[0m\u001b[0;34m(\u001b[0m\u001b[0;34m*\u001b[0m\u001b[0minput\u001b[0m\u001b[0;34m,\u001b[0m \u001b[0;34m**\u001b[0m\u001b[0mkwargs\u001b[0m\u001b[0;34m)\u001b[0m\u001b[0;34m\u001b[0m\u001b[0;34m\u001b[0m\u001b[0m\n\u001b[1;32m    488\u001b[0m         \u001b[0;32melse\u001b[0m\u001b[0;34m:\u001b[0m\u001b[0;34m\u001b[0m\u001b[0;34m\u001b[0m\u001b[0m\n\u001b[0;32m--> 489\u001b[0;31m             \u001b[0mresult\u001b[0m \u001b[0;34m=\u001b[0m \u001b[0mself\u001b[0m\u001b[0;34m.\u001b[0m\u001b[0mforward\u001b[0m\u001b[0;34m(\u001b[0m\u001b[0;34m*\u001b[0m\u001b[0minput\u001b[0m\u001b[0;34m,\u001b[0m \u001b[0;34m**\u001b[0m\u001b[0mkwargs\u001b[0m\u001b[0;34m)\u001b[0m\u001b[0;34m\u001b[0m\u001b[0;34m\u001b[0m\u001b[0m\n\u001b[0m\u001b[1;32m    490\u001b[0m         \u001b[0;32mfor\u001b[0m \u001b[0mhook\u001b[0m \u001b[0;32min\u001b[0m \u001b[0mself\u001b[0m\u001b[0;34m.\u001b[0m\u001b[0m_forward_hooks\u001b[0m\u001b[0;34m.\u001b[0m\u001b[0mvalues\u001b[0m\u001b[0;34m(\u001b[0m\u001b[0;34m)\u001b[0m\u001b[0;34m:\u001b[0m\u001b[0;34m\u001b[0m\u001b[0;34m\u001b[0m\u001b[0m\n\u001b[1;32m    491\u001b[0m             \u001b[0mhook_result\u001b[0m \u001b[0;34m=\u001b[0m \u001b[0mhook\u001b[0m\u001b[0;34m(\u001b[0m\u001b[0mself\u001b[0m\u001b[0;34m,\u001b[0m \u001b[0minput\u001b[0m\u001b[0;34m,\u001b[0m \u001b[0mresult\u001b[0m\u001b[0;34m)\u001b[0m\u001b[0;34m\u001b[0m\u001b[0;34m\u001b[0m\u001b[0m\n",
      "\u001b[0;32m~/miniconda3/envs/pytorch/lib/python3.7/site-packages/torch/nn/modules/conv.py\u001b[0m in \u001b[0;36mforward\u001b[0;34m(self, input)\u001b[0m\n\u001b[1;32m    318\u001b[0m     \u001b[0;32mdef\u001b[0m \u001b[0mforward\u001b[0m\u001b[0;34m(\u001b[0m\u001b[0mself\u001b[0m\u001b[0;34m,\u001b[0m \u001b[0minput\u001b[0m\u001b[0;34m)\u001b[0m\u001b[0;34m:\u001b[0m\u001b[0;34m\u001b[0m\u001b[0;34m\u001b[0m\u001b[0m\n\u001b[1;32m    319\u001b[0m         return F.conv2d(input, self.weight, self.bias, self.stride,\n\u001b[0;32m--> 320\u001b[0;31m                         self.padding, self.dilation, self.groups)\n\u001b[0m\u001b[1;32m    321\u001b[0m \u001b[0;34m\u001b[0m\u001b[0m\n\u001b[1;32m    322\u001b[0m \u001b[0;34m\u001b[0m\u001b[0m\n",
      "\u001b[0;31mKeyboardInterrupt\u001b[0m: "
     ]
    }
   ],
   "source": [
    "train(1, model, optimizer, train_loader, device)"
   ]
  },
  {
   "cell_type": "markdown",
   "metadata": {},
   "source": [
    "## Wasserstein"
   ]
  },
  {
   "cell_type": "markdown",
   "metadata": {},
   "source": [
    "### Defining the model"
   ]
  },
  {
   "cell_type": "code",
   "execution_count": 20,
   "metadata": {
    "ExecuteTime": {
     "end_time": "2019-02-22T19:47:54.475299Z",
     "start_time": "2019-02-22T19:47:54.393844Z"
    },
    "colab": {
     "base_uri": "https://localhost:8080/",
     "height": 374
    },
    "colab_type": "code",
    "executionInfo": {
     "elapsed": 8410,
     "status": "ok",
     "timestamp": 1549842314245,
     "user": {
      "displayName": "Basile Dura",
      "photoUrl": "https://lh5.googleusercontent.com/-VYKwAw35RKU/AAAAAAAAAAI/AAAAAAAAS-Q/tpwWee7Y2yA/s64/photo.jpg",
      "userId": "10273963106894465933"
     },
     "user_tz": 300
    },
    "id": "jWy_Oi64BWj4",
    "outputId": "de2df182-1803-4c6f-83d7-de520629a18d"
   },
   "outputs": [
    {
     "data": {
      "text/plain": [
       "WassersteinAutoEncoder(\n",
       "  (reconstruction_criterion): MSELoss()\n",
       "  (activation): ReLU()\n",
       "  (dropout): Dropout(p=0.1)\n",
       "  (max): MaxPool2d(kernel_size=2, stride=2, padding=0, dilation=1, ceil_mode=False)\n",
       "  (encoder_conv32): Conv2d(3, 64, kernel_size=(3, 3), stride=(1, 1), padding=(1, 1))\n",
       "  (encoder_conv16): Conv2d(64, 128, kernel_size=(3, 3), stride=(1, 1), padding=(1, 1))\n",
       "  (encoder_conv8): Conv2d(128, 256, kernel_size=(3, 3), stride=(1, 1), padding=(1, 1))\n",
       "  (encoder_conv4): Conv2d(256, 256, kernel_size=(3, 3), stride=(1, 1), padding=(1, 1))\n",
       "  (encoder_lin_100): Linear(in_features=4096, out_features=100, bias=True)\n",
       "  (encoder_lin_l): Linear(in_features=100, out_features=2, bias=True)\n",
       "  (decoder_lin_l): Linear(in_features=2, out_features=100, bias=True)\n",
       "  (decoder_lin_100): Linear(in_features=100, out_features=4096, bias=True)\n",
       "  (decoder_conv4): Conv2d(256, 256, kernel_size=(3, 3), stride=(1, 1), padding=(1, 1))\n",
       "  (decoder_conv8): Conv2d(256, 128, kernel_size=(3, 3), stride=(1, 1), padding=(1, 1))\n",
       "  (decoder_conv16): Conv2d(128, 64, kernel_size=(3, 3), stride=(1, 1), padding=(1, 1))\n",
       "  (decoder_conv32): Conv2d(64, 3, kernel_size=(3, 3), stride=(1, 1), padding=(1, 1))\n",
       ")"
      ]
     },
     "execution_count": 20,
     "metadata": {},
     "output_type": "execute_result"
    }
   ],
   "source": [
    "model = wasserstein.WassersteinAutoEncoder()\n",
    "model"
   ]
  },
  {
   "cell_type": "code",
   "execution_count": 17,
   "metadata": {
    "ExecuteTime": {
     "end_time": "2019-02-22T19:47:10.929509Z",
     "start_time": "2019-02-22T19:47:10.872886Z"
    }
   },
   "outputs": [],
   "source": [
    "model = model.to(device)"
   ]
  },
  {
   "cell_type": "markdown",
   "metadata": {},
   "source": [
    "### Custom train and test functions"
   ]
  },
  {
   "cell_type": "code",
   "execution_count": 18,
   "metadata": {
    "ExecuteTime": {
     "end_time": "2019-02-22T19:47:11.948642Z",
     "start_time": "2019-02-22T19:47:11.885354Z"
    }
   },
   "outputs": [],
   "source": [
    "def train(epoch, model, optimizer, dataloader, device):\n",
    "\n",
    "    model.train()\n",
    "    train_loss = 0\n",
    "    \n",
    "    iterator = tqdm(\n",
    "        dataloader,\n",
    "        ascii=True,\n",
    "        ncols=100,\n",
    "        total=len(dataloader)\n",
    "    )\n",
    "\n",
    "    for data, _ in iterator:\n",
    "        # We move the mini-batch to the device (useful is using a GPU)\n",
    "        data = data.to(device)\n",
    "\n",
    "        # We initialize the gradients\n",
    "        optimizer.zero_grad()\n",
    "\n",
    "        # We compute the recontruction of x (x_tilde) and its encoding (z)\n",
    "        x_tilde, z = model(data)\n",
    "\n",
    "        # We compute the loss\n",
    "        loss = model.loss(x_tilde=x_tilde, x=data, z=z, device=device)\n",
    "\n",
    "        # Backpropagation\n",
    "        loss.backward()\n",
    "\n",
    "        # Updating the loss\n",
    "        train_loss += loss.item()\n",
    "\n",
    "        # Updating the parameters\n",
    "        optimizer.step()\n",
    "\n",
    "    print('>> Epoch: {} Average loss: {:.4f}'.format(epoch, train_loss / len(train_loader.dataset)))"
   ]
  },
  {
   "cell_type": "code",
   "execution_count": 19,
   "metadata": {
    "ExecuteTime": {
     "end_time": "2019-02-22T19:47:12.323872Z",
     "start_time": "2019-02-22T19:47:12.263364Z"
    }
   },
   "outputs": [],
   "source": [
    "def test(epoch, model, dataloader, device, writer):\n",
    "\n",
    "    model.eval()\n",
    "    test_loss = 0\n",
    "\n",
    "    # We do not compute gradients during the testing phase, hence the no_grad() environment\n",
    "    with torch.no_grad():\n",
    "\n",
    "        for i, (data, _) in enumerate(dataloader):\n",
    "\n",
    "            data = data.to(device)\n",
    "            x_tilde, z = model(data)\n",
    "\n",
    "            test_loss += model.loss(x_tilde=x_tilde, x=data, z=z, device=device).item()\n",
    "\n",
    "            if i == 0:\n",
    "                n = min(data.size(0), 8)\n",
    "                comparison = torch.cat([data[:n], x_tilde.view(100, 1, 28, 28)[:n]])\n",
    "\n",
    "    test_loss /= len(test_loader.dataset)\n",
    "    print('>> Test set loss: {:.4f}'.format(test_loss))"
   ]
  },
  {
   "cell_type": "markdown",
   "metadata": {},
   "source": [
    "### Training loop"
   ]
  },
  {
   "cell_type": "code",
   "execution_count": 19,
   "metadata": {
    "ExecuteTime": {
     "end_time": "2019-02-22T16:34:23.330784Z",
     "start_time": "2019-02-22T16:34:23.304505Z"
    }
   },
   "outputs": [],
   "source": [
    "optimizer = optim.Adam(model.parameters())"
   ]
  },
  {
   "cell_type": "code",
   "execution_count": null,
   "metadata": {
    "ExecuteTime": {
     "start_time": "2019-02-22T16:34:24.370Z"
    },
    "scrolled": true
   },
   "outputs": [
    {
     "name": "stderr",
     "output_type": "stream",
     "text": [
      "  0%|                                                                       | 0/540 [00:00<?, ?it/s]/Users/basile/miniconda3/envs/pytorch/lib/python3.7/site-packages/torch/nn/modules/upsampling.py:129: UserWarning: nn.Upsample is deprecated. Use nn.functional.interpolate instead.\n",
      "  warnings.warn(\"nn.{} is deprecated. Use nn.functional.interpolate instead.\".format(self.name))\n",
      "/Users/basile/miniconda3/envs/pytorch/lib/python3.7/site-packages/torch/nn/functional.py:1332: UserWarning: nn.functional.sigmoid is deprecated. Use torch.sigmoid instead.\n",
      "  warnings.warn(\"nn.functional.sigmoid is deprecated. Use torch.sigmoid instead.\")\n",
      " 66%|########################################3                    | 357/540 [10:29<05:23,  1.77s/it]"
     ]
    }
   ],
   "source": [
    "train(1, model, optimizer, train_loader, device)"
   ]
  },
  {
   "cell_type": "code",
   "execution_count": null,
   "metadata": {},
   "outputs": [],
   "source": []
  },
  {
   "cell_type": "code",
   "execution_count": null,
   "metadata": {},
   "outputs": [],
   "source": []
  }
 ],
 "metadata": {
  "accelerator": "GPU",
  "colab": {
   "collapsed_sections": [],
   "name": "Training.ipynb",
   "provenance": [],
   "toc_visible": true,
   "version": "0.3.2"
  },
  "kernelspec": {
   "display_name": "Python 3",
   "language": "python",
   "name": "python3"
  },
  "language_info": {
   "codemirror_mode": {
    "name": "ipython",
    "version": 3
   },
   "file_extension": ".py",
   "mimetype": "text/x-python",
   "name": "python",
   "nbconvert_exporter": "python",
   "pygments_lexer": "ipython3",
   "version": "3.7.1"
  },
  "toc": {
   "base_numbering": 1,
   "nav_menu": {},
   "number_sections": true,
   "sideBar": true,
   "skip_h1_title": false,
   "title_cell": "Table of Contents",
   "title_sidebar": "Contents",
   "toc_cell": false,
   "toc_position": {},
   "toc_section_display": true,
   "toc_window_display": false
  }
 },
 "nbformat": 4,
 "nbformat_minor": 1
}
